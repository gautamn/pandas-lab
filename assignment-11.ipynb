{
 "cells": [
  {
   "cell_type": "code",
   "execution_count": 1,
   "id": "1eb411f7-7aca-4822-9b4c-592c10259d26",
   "metadata": {},
   "outputs": [],
   "source": [
    "import pandas as pd"
   ]
  },
  {
   "cell_type": "code",
   "execution_count": 2,
   "id": "63ff3693-0038-4cbd-b3be-df5b795d7068",
   "metadata": {},
   "outputs": [],
   "source": [
    "na_vals = ['NA', 'Missing']\n",
    "df = pd.read_csv('survey_results_public.csv', index_col='Respondent', na_values = na_vals)"
   ]
  },
  {
   "cell_type": "code",
   "execution_count": 5,
   "id": "8231e8f5-f904-4734-a69e-feb4df439748",
   "metadata": {},
   "outputs": [
    {
     "data": {
      "text/plain": [
       "(88883, 84)"
      ]
     },
     "execution_count": 5,
     "metadata": {},
     "output_type": "execute_result"
    }
   ],
   "source": [
    "df.shape"
   ]
  },
  {
   "cell_type": "code",
   "execution_count": 7,
   "id": "452d1b2b-a6b2-4d1f-9a12-ab4967180b65",
   "metadata": {},
   "outputs": [],
   "source": [
    "df.to_csv('clean.csv')"
   ]
  },
  {
   "cell_type": "code",
   "execution_count": 8,
   "id": "75f8c6f6-f605-4085-9cc8-41df61ea1b26",
   "metadata": {},
   "outputs": [],
   "source": [
    "df.to_csv('clean.tsv', sep='\\t')"
   ]
  },
  {
   "cell_type": "code",
   "execution_count": 10,
   "id": "64b65505-f262-4474-8119-da2155c6f72b",
   "metadata": {},
   "outputs": [],
   "source": [
    "df.to_excel('clean.xlsx')"
   ]
  },
  {
   "cell_type": "code",
   "execution_count": 11,
   "id": "d8325d94-c757-469e-8215-f2433cb8ba2a",
   "metadata": {},
   "outputs": [],
   "source": [
    "df.to_json('clean.json')"
   ]
  },
  {
   "cell_type": "code",
   "execution_count": 12,
   "id": "eda96c81-88c9-4218-abfc-5d0ee1c84977",
   "metadata": {},
   "outputs": [
    {
     "data": {
      "text/plain": [
       "(88883, 84)"
      ]
     },
     "execution_count": 12,
     "metadata": {},
     "output_type": "execute_result"
    }
   ],
   "source": [
    "df.shape"
   ]
  },
  {
   "cell_type": "code",
   "execution_count": null,
   "id": "aa151133-7a54-4d6b-a3b3-7e308f133b46",
   "metadata": {},
   "outputs": [],
   "source": []
  }
 ],
 "metadata": {
  "kernelspec": {
   "display_name": "Python 3 (ipykernel)",
   "language": "python",
   "name": "python3"
  },
  "language_info": {
   "codemirror_mode": {
    "name": "ipython",
    "version": 3
   },
   "file_extension": ".py",
   "mimetype": "text/x-python",
   "name": "python",
   "nbconvert_exporter": "python",
   "pygments_lexer": "ipython3",
   "version": "3.9.13"
  }
 },
 "nbformat": 4,
 "nbformat_minor": 5
}
